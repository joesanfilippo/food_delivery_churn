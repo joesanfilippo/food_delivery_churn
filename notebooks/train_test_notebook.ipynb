{
 "cells": [
  {
   "cell_type": "code",
   "execution_count": 1,
   "id": "unlike-return",
   "metadata": {},
   "outputs": [],
   "source": [
    "import io\n",
    "import os\n",
    "import boto3\n",
    "import numpy as np\n",
    "import pandas as pd\n",
    "import matplotlib.pyplot as plt \n",
    "plt.style.use('ggplot')\n",
    "font = {'weight': 'bold'\n",
    "       ,'size': 16}\n",
    "plt.rc('font', **font)\n",
    "from sklearn.ensemble import RandomForestClassifier\n",
    "from sklearn.ensemble import GradientBoostingClassifier\n",
    "from sklearn.linear_model import LogisticRegression\n",
    "from sklearn.model_selection import train_test_split, cross_val_score\n",
    "from sklearn.model_selection import GridSearchCV, RandomizedSearchCV\n",
    "from sklearn.metrics import confusion_matrix, mean_squared_error,r2_score, make_scorer, roc_auc_score, roc_curve, auc, recall_score"
   ]
  },
  {
   "cell_type": "code",
   "execution_count": 2,
   "id": "palestinian-gather",
   "metadata": {},
   "outputs": [],
   "source": [
    "aws_id = os.environ['AWS_ACCESS_KEY_ID']\n",
    "aws_secret = os.environ['AWS_SECRET_ACCESS_KEY']\n",
    "client = boto3.client('s3'\n",
    "                     ,aws_access_key_id=aws_id\n",
    "                     ,aws_secret_access_key=aws_secret)\n",
    "\n",
    "train_obj = client.get_object(Bucket='food-delivery-churn', Key='churn_train.csv')\n",
    "test_obj = client.get_object(Bucket='food-delivery-churn', Key='churn_test.csv')"
   ]
  },
  {
   "cell_type": "code",
   "execution_count": 3,
   "id": "ambient-transcript",
   "metadata": {},
   "outputs": [],
   "source": [
    "churn_train_X = pd.read_csv(io.BytesIO(train_obj['Body'].read())\n",
    "                            ,encoding='utf8'\n",
    "                            ,parse_dates=['signup_time_utc', 'last_order_time_utc']\n",
    "                            ,date_parser=pd.to_datetime)\n",
    "\n",
    "churn_test_X = pd.read_csv(io.BytesIO(test_obj['Body'].read())\n",
    "                            ,encoding='utf8'\n",
    "                            ,parse_dates=['signup_time_utc', 'last_order_time_utc']\n",
    "                            ,date_parser=pd.to_datetime)"
   ]
  },
  {
   "cell_type": "code",
   "execution_count": 4,
   "id": "complex-shift",
   "metadata": {},
   "outputs": [],
   "source": [
    "churn_train_y = churn_train_X.pop('churned_user').values\n",
    "churn_test_y = churn_test_X.pop('churned_user').values"
   ]
  },
  {
   "cell_type": "code",
   "execution_count": 7,
   "id": "informed-census",
   "metadata": {},
   "outputs": [
    {
     "data": {
      "text/plain": [
       "['city_name', 'city_group']"
      ]
     },
     "execution_count": 7,
     "metadata": {},
     "output_type": "execute_result"
    }
   ],
   "source": [
    "churn_train_X_drop = churn_train_X.drop(['user_id', 'signup_time_utc', 'last_order_time_utc'], axis=1)\n",
    "churn_test_X_drop = churn_test_X.drop(['user_id', 'signup_time_utc', 'last_order_time_utc'], axis=1)\n",
    "\n",
    "select_columns = ['signup_to_order_hours'\n",
    "                 ,'first_order_discount_percent'\n",
    "                 ,'first_30_day_orders'\n",
    "                 ,'first_30_day_avg_meal_rating'\n",
    "                 ,'first_30_day_avg_driver_rating'\n",
    "                 ,'first_30_day_discount_percent']\n",
    "# churn_train_X_drop.loc[:, churn_train_X_drop.columns.to_series().str.startswith(\"first_30\")]\n",
    "# churn_train_X_drop.columns.to_series().str.startswith((\"first_30\", \"city\", \"signup\"))\n",
    "churn_train_X_drop.select_dtypes(include=['object']).columns.tolist()"
   ]
  },
  {
   "cell_type": "code",
   "execution_count": 27,
   "id": "republican-change",
   "metadata": {},
   "outputs": [],
   "source": [
    "def convert_cat_to_int(data, col):\n",
    "    '''\n",
    "    Args:\n",
    "        data (Pandas DF): A pandas DF with a column 'col' to convert string/boolean values to integers\n",
    "        col (str) = The name of the column to convert from categorical to integer\n",
    "        \n",
    "    Returns:\n",
    "        data (Pandas DF): A pandas DF with t\n",
    "    '''\n",
    "    col_dict = {}\n",
    "    for idx, cat in enumerate(data[col].unique()):\n",
    "        col_dict[cat] = idx\n",
    "\n",
    "    data[col] = data[col].map(lambda x: col_dict[x])\n",
    "\n",
    "    return data"
   ]
  },
  {
   "cell_type": "code",
   "execution_count": 28,
   "id": "annoying-hopkins",
   "metadata": {},
   "outputs": [],
   "source": [
    "churn_train_X_drop = convert_cat_to_int(churn_train_X_drop, 'city_name')\n",
    "churn_train_X_drop = convert_cat_to_int(churn_train_X_drop, 'city_group')\n",
    "churn_train_X_drop = convert_cat_to_int(churn_train_X_drop, 'first_order_delivered_on_time')\n",
    "\n",
    "churn_test_X_drop = convert_cat_to_int(churn_test_X_drop, 'city_name')\n",
    "churn_test_X_drop = convert_cat_to_int(churn_test_X_drop, 'city_group')\n",
    "churn_test_X_drop = convert_cat_to_int(churn_test_X_drop, 'first_order_delivered_on_time')\n"
   ]
  },
  {
   "cell_type": "code",
   "execution_count": 29,
   "id": "smart-plasma",
   "metadata": {},
   "outputs": [],
   "source": [
    "X_train = churn_train_X_drop.values\n",
    "y_train = churn_train_y\n",
    "\n",
    "X_test = churn_test_X_drop.values\n",
    "y_test = churn_test_y"
   ]
  },
  {
   "cell_type": "code",
   "execution_count": 30,
   "id": "passive-arbitration",
   "metadata": {},
   "outputs": [
    {
     "data": {
      "text/plain": [
       "LogisticRegression(class_weight='balanced', solver='liblinear')"
      ]
     },
     "execution_count": 30,
     "metadata": {},
     "output_type": "execute_result"
    }
   ],
   "source": [
    "lr_model = LogisticRegression(solver='liblinear', class_weight='balanced')\n",
    "lr_model.fit(X_train, y_train)"
   ]
  },
  {
   "cell_type": "code",
   "execution_count": 31,
   "id": "billion-kentucky",
   "metadata": {},
   "outputs": [],
   "source": [
    "y_hats = lr_model.predict(X_test)"
   ]
  },
  {
   "cell_type": "code",
   "execution_count": 32,
   "id": "dental-production",
   "metadata": {},
   "outputs": [
    {
     "name": "stdout",
     "output_type": "stream",
     "text": [
      "---------------------------------\n",
      "          |        True         |\n",
      "Predicted |  19147   |    3521  |\n",
      "          |  7147    |    4468  |\n",
      "---------------------------------\n",
      "Accuracy: 0.6888\n",
      "Recall: 0.7282\n",
      "Precision: 0.8447\n",
      "AUC: 0.6437\n"
     ]
    }
   ],
   "source": [
    "tn, fp, fn, tp = confusion_matrix(y_test, y_hats).ravel()\n",
    "accuracy = (tp + tn) / (tp + tn + fp + fn)\n",
    "recall = tp / (tp + fn)\n",
    "precision = tp / (tp + fp)\n",
    "print(\\\n",
    "f\"---------------------------------\\n\"\\\n",
    "f\"          |        True         |\\n\"\\\n",
    "f\"Predicted |  {tp}   |    {fp}  |\\n\"\\\n",
    "f\"          |  {fn}    |    {tn}  |\\n\"\\\n",
    "f\"---------------------------------\")\n",
    "\n",
    "print(f\"Accuracy: {accuracy:.4f}\")\n",
    "print(f\"Recall: {recall:.4f}\")\n",
    "print(f\"Precision: {precision:.4f}\")\n",
    "print(f\"AUC: {roc_auc_score(y_test, y_hats):.4f}\")"
   ]
  },
  {
   "cell_type": "code",
   "execution_count": 33,
   "id": "technological-equity",
   "metadata": {},
   "outputs": [
    {
     "data": {
      "text/plain": [
       "(array([0.        , 0.44073101, 1.        ]),\n",
       " array([0.        , 0.72818894, 1.        ]),\n",
       " array([2, 1, 0]))"
      ]
     },
     "execution_count": 33,
     "metadata": {},
     "output_type": "execute_result"
    }
   ],
   "source": [
    "# mean_squared_error\n",
    "# r2_score\n",
    "# make_scorer\n",
    "roc_curve(y_test, y_hats)\n",
    "# auc\n",
    "# recall_score"
   ]
  },
  {
   "cell_type": "code",
   "execution_count": 34,
   "id": "painted-aside",
   "metadata": {},
   "outputs": [],
   "source": [
    "def plot_model_aoc(classifier, X_test, y_test, ax, plot_kwargs={}):\n",
    "    \"\"\" Plots the AOC Curve for a classifier given the test data and axis\n",
    "    Args:\n",
    "        classifier (Sklearn Classifier): The best classifier to test against other classifiers\n",
    "        X_test (numpy array): Values to use when predicting with the classifier\n",
    "        y_test (numpy array): True target values to evaluate the predictors against\n",
    "        ax (matplotlib axis): An axis to plot the AOC curve on.\n",
    "\n",
    "    Returns: \n",
    "        None\n",
    "        Modifies ax by plotting the AOC curve from the best classifier.\n",
    "    \"\"\"\n",
    "    y_preds = classifier.predict_proba(X_test)[:,1] \n",
    "    auc_score = roc_auc_score(y_test, y_preds)\n",
    "    fpr, tpr, threshold = roc_curve(y_test, y_preds)\n",
    "    roc_df = pd.DataFrame(zip(fpr, tpr, threshold), columns = ['fpr', 'tpr', 'threshold'])\n",
    "    ax.plot(roc_df.fpr, roc_df.tpr, label=f\"{classifier.__class__.__name__} AUC={auc_score:.3f}\", **plot_kwargs)"
   ]
  },
  {
   "cell_type": "code",
   "execution_count": 46,
   "id": "linear-knock",
   "metadata": {},
   "outputs": [
    {
     "data": {
      "text/plain": [
       "<matplotlib.legend.Legend at 0x7fab2850add0>"
      ]
     },
     "execution_count": 46,
     "metadata": {},
     "output_type": "execute_result"
    },
    {
     "data": {
      "image/png": "[encoded data removed]",
      "text/plain": [
       "<Figure size 1080x720 with 1 Axes>"
      ]
     },
     "metadata": {},
     "output_type": "display_data"
    }
   ],
   "source": [
    "fig, ax = plt.subplots(figsize=(15,10))\n",
    "\n",
    "plot_model_aoc(lr_model, X_test, y_test, ax, plot_kwargs={'linestyle':':'\n",
    "                                                          ,'linewidth': 3\n",
    "                                                          ,'color': '#F8766D'})\n",
    "ax.legend(loc='lower right')"
   ]
  },
  {
   "cell_type": "code",
   "execution_count": null,
   "id": "decreased-steps",
   "metadata": {},
   "outputs": [],
   "source": []
  }
 ],
 "metadata": {
  "kernelspec": {
   "display_name": "Python 3",
   "language": "python",
   "name": "python3"
  },
  "language_info": {
   "codemirror_mode": {
    "name": "ipython",
    "version": 3
   },
   "file_extension": ".py",
   "mimetype": "text/x-python",
   "name": "python",
   "nbconvert_exporter": "python",
   "pygments_lexer": "ipython3",
   "version": "3.7.9"
  }
 },
 "nbformat": 4,
 "nbformat_minor": 5
}
